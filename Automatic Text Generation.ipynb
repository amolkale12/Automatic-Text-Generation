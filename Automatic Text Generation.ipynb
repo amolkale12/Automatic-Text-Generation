{
 "cells": [
  {
   "cell_type": "markdown",
   "metadata": {},
   "source": [
    "# Automatic Text Generation"
   ]
  },
  {
   "cell_type": "markdown",
   "metadata": {},
   "source": [
    "#### Import Libraries"
   ]
  },
  {
   "cell_type": "code",
   "execution_count": 11,
   "metadata": {},
   "outputs": [],
   "source": [
    "# Import Libraries\n",
    "import csv\n",
    "import numpy as np\n",
    "import pickle\n",
    "import time\n",
    "import re\n",
    "from keras.models import Sequential, load_model\n",
    "from keras.layers.core import Dense, Activation, Dropout\n",
    "from keras.layers.recurrent import LSTM\n",
    "from keras.layers.recurrent import SimpleRNN\n",
    "from keras.layers.recurrent import GRU\n",
    "from keras.layers.wrappers import TimeDistributed\n",
    "import matplotlib.pyplot as plt\n",
    "import seaborn as sns\n",
    "from pylab import rcParams\n",
    "\n",
    "%matplotlib inline"
   ]
  },
  {
   "cell_type": "code",
   "execution_count": 12,
   "metadata": {},
   "outputs": [],
   "source": [
    "sns.set(style='darkgrid', palette='muted', font_scale=1.5)\n",
    "rcParams['figure.figsize'] = 12, 5"
   ]
  },
  {
   "cell_type": "markdown",
   "metadata": {},
   "source": [
    "## Dataset\n",
    "The dataset is a Project [Gutenberg](www.gutenberg.org) EBook of *Beyond Good and Evil*, by Friedrich Nietzsche"
   ]
  },
  {
   "cell_type": "code",
   "execution_count": 13,
   "metadata": {},
   "outputs": [],
   "source": [
    "MODE = 'train'\n",
    "DATA_FILE = 'pg4363.txt'\n",
    "BATCH_SIZE = 50\n",
    "HIDDEN_DIM = 500\n",
    "SEQ_LENGTH = 50\n",
    "WEIGHTS = ''\n",
    "GENERATE_LENGTH = 10 #500\n",
    "LAYER_NUM = 2"
   ]
  },
  {
   "cell_type": "code",
   "execution_count": 14,
   "metadata": {},
   "outputs": [],
   "source": [
    "def strip_non_ascii(string):\n",
    "    ''' Returns the string without non ASCII characters'''\n",
    "    stripped = (c for c in string if 0 < ord(c) < 127)\n",
    "    return ''.join(stripped)"
   ]
  },
  {
   "cell_type": "code",
   "execution_count": 15,
   "metadata": {},
   "outputs": [],
   "source": [
    "def load_data(data_file, seq_length):\n",
    "    data = open(data_file,encoding=\"utf-8\").read().lower()\n",
    "    data = strip_non_ascii(data)\n",
    "    data = re.sub('\\.\\.+', '.', data) #change multiple dots into single dot\n",
    "    data = re.sub(\"\\s\\s+\", \" \", data) #change multiple spaces into single space\n",
    "\n",
    "    chars = list(set(data))\n",
    "    #print(chars)\n",
    "    VOCAB_SIZE = len(chars)\n",
    "\n",
    "    print('Data length: {}'.format(len(data)))\n",
    "    print('Vocabulary size: {}'.format(VOCAB_SIZE))\n",
    "    \n",
    "    '''\n",
    "    Each element in chars array appears once. The data array contains the complete corpus\n",
    "    and the chars array is features holder. Two dictionaries are created to map between \n",
    "    indexes and characters:\n",
    "    '''\n",
    "    \n",
    "    index_to_char = {index:char for index, char in enumerate(chars)}\n",
    "    char_to_index = {char:index for index, char in enumerate(chars)}\n",
    "    \n",
    "    '''\n",
    "    The mapping is needed to input numeric training data into Neural Networks. \n",
    "    A different dictionary is required to convert the numbers back to the original characters. \n",
    "    Hence two dictionaries are created above.\n",
    "    '''\n",
    "    \n",
    "    '''\n",
    "    In order to train the Network, data needs to be transformed into the form given below:\n",
    "    (number_of_sequences, length_of_sequence, number_of_features). \n",
    "    Number of sequences: length of data / the length of each sequence. Every character \n",
    "    needs to be converted into corresponding index number.\n",
    "    Length of sequence: It is the unit that Model learns at a time. \n",
    "    The number of the features: It is the length of the chars array above. \n",
    "    \n",
    "\n",
    "    Target sequences: The target is set by shifting the related input sequence by one character. \n",
    "    Target sequence has same length with the input sequence.\n",
    "    '''\n",
    "    \n",
    "    X = np.zeros((len(data)//seq_length, seq_length, VOCAB_SIZE))\n",
    "    y = np.zeros((len(data)//seq_length, seq_length, VOCAB_SIZE))\n",
    "    \n",
    "    for i in range(0, len(data)//seq_length):\n",
    "        X_sequence = data[i*seq_length:(i+1)*seq_length]\n",
    "        X_sequence_index = [char_to_index[value] for value in X_sequence]\n",
    "        input_sequence = np.zeros((seq_length, VOCAB_SIZE))\n",
    "        for j in range(seq_length):\n",
    "            input_sequence[j][X_sequence_index[j]] = 1.\n",
    "            X[i] = input_sequence\n",
    "\n",
    "        y_sequence = data[i*seq_length+1:(i+1)*seq_length+1]\n",
    "        y_sequence_index = [char_to_index[value] for value in y_sequence]\n",
    "        target_sequence = np.zeros((seq_length, VOCAB_SIZE))\n",
    "        for j in range(seq_length):\n",
    "            target_sequence[j][y_sequence_index[j]] = 1.\n",
    "            y[i] = target_sequence\n",
    "    return X, y, VOCAB_SIZE, index_to_char"
   ]
  },
  {
   "cell_type": "code",
   "execution_count": 16,
   "metadata": {},
   "outputs": [],
   "source": [
    "def autogenerate_text(model, length, vocab_size, index_to_char):\n",
    "    index = [np.random.randint(vocab_size)]\n",
    "    y_char = [index_to_char[index[-1]]]\n",
    "    X = np.zeros((1, length, vocab_size))\n",
    "    for i in range(length):\n",
    "        # appending the last predicted character to sequence\n",
    "        X[0, i, :][index[-1]] = 1\n",
    "        print(index_to_char[index[-1]], end=\"\")\n",
    "        index = np.argmax(model.predict(X[:, :i+1, :])[0], 1)\n",
    "        y_char.append(index_to_char[index[-1]])\n",
    "    return ('').join(y_char)"
   ]
  },
  {
   "cell_type": "code",
   "execution_count": 17,
   "metadata": {},
   "outputs": [
    {
     "name": "stdout",
     "output_type": "stream",
     "text": [
      "Data length: 400420\n",
      "Vocabulary size: 58\n"
     ]
    }
   ],
   "source": [
    "# Load data\n",
    "X, y, VOCAB_SIZE, index_to_char = load_data(DATA_FILE, SEQ_LENGTH)"
   ]
  },
  {
   "cell_type": "code",
   "execution_count": 18,
   "metadata": {},
   "outputs": [],
   "source": [
    "# Creating and compiling the LSTM\n",
    "model = Sequential()\n",
    "model.add(LSTM(HIDDEN_DIM, input_shape=(None, VOCAB_SIZE), return_sequences=True))\n",
    "'''\n",
    "return_sequences=True: Unlike single vector in vanilla Neural Networks, a sequence of the output is desired here.\n",
    "So, return_sequences should be set to True. Basically input's shape is required as (num_seq, seq_len, num_feature). \n",
    "If return_sequences is not True, output will have the shape of (num_seq, num_feature).\n",
    "\n",
    "TimeDistributed wrapper layer:\n",
    "Due to return_sequences=True in the LSTM layers, the output is a three-dimension vector. \n",
    "If we input that into the Dense layer, it will raise an error because the Dense layer only \n",
    "accepts two-dimension input. In order to input a three-dimension vector, we need to use a \n",
    "wrapper layer called TimeDistributed. This layer will help us maintain output’s shape, so \n",
    "that we can achieve a sequence as output in the end.\n",
    "'''\n",
    "for i in range(LAYER_NUM - 1):\n",
    "  model.add(LSTM(HIDDEN_DIM, return_sequences=True))\n",
    "model.add(TimeDistributed(Dense(VOCAB_SIZE)))\n",
    "model.add(Activation('softmax'))\n",
    "model.compile(loss=\"categorical_crossentropy\", optimizer=\"rmsprop\")"
   ]
  },
  {
   "cell_type": "markdown",
   "metadata": {},
   "source": [
    "### Generate some sample before training to know how bad it is!"
   ]
  },
  {
   "cell_type": "code",
   "execution_count": 19,
   "metadata": {},
   "outputs": [
    {
     "name": "stdout",
     "output_type": "stream",
     "text": [
      "a*1i1ccchh"
     ]
    },
    {
     "data": {
      "text/plain": [
       "'a*1i1ccchhd'"
      ]
     },
     "execution_count": 19,
     "metadata": {},
     "output_type": "execute_result"
    }
   ],
   "source": [
    "autogenerate_text(model, GENERATE_LENGTH, VOCAB_SIZE, index_to_char)"
   ]
  },
  {
   "cell_type": "code",
   "execution_count": 20,
   "metadata": {},
   "outputs": [],
   "source": [
    "if not WEIGHTS == '':\n",
    "  model.load_weights(WEIGHTS)\n",
    "  nb_epoch = int(WEIGHTS[WEIGHTS.rfind('_') + 1:WEIGHTS.find('.')])\n",
    "else:\n",
    "  nb_epoch = 0"
   ]
  },
  {
   "cell_type": "code",
   "execution_count": 23,
   "metadata": {},
   "outputs": [
    {
     "name": "stdout",
     "output_type": "stream",
     "text": [
      "\n",
      "\n",
      "Epoch: 0\n",
      "\n",
      "Epoch 1/2\n",
      "8008/8008 [==============================] - 359s 45ms/step - loss: 2.8161\n",
      "Epoch 2/2\n",
      "8008/8008 [==============================] - 378s 47ms/step - loss: 2.2394\n",
      "y and and "
     ]
    }
   ],
   "source": [
    "# Training if there is no trained weights specified\n",
    "if MODE == 'train' or WEIGHTS == '':\n",
    "  #while nb_epoch < 5:\n",
    "  print('\\n\\nEpoch: {}\\n'.format(nb_epoch))\n",
    "  history = model.fit(X, y, batch_size=BATCH_SIZE, epochs=2, shuffle=True).history\n",
    "  #history = model.fit(X, y, validation_split=0.05, batch_size=128, epochs=20, shuffle=True).history\n",
    "  nb_epoch += 1\n",
    "  autogenerate_text(model, GENERATE_LENGTH, VOCAB_SIZE, index_to_char)\n",
    "  if nb_epoch % 10 == 0:\n",
    "    model.save_weights('checkpoint_layer_{}_hidden_{}_epoch_{}.hdf5'.format(LAYER_NUM, HIDDEN_DIM, nb_epoch))\n",
    "\n",
    "# Else, loading the trained weights and performing generation only\n",
    "elif WEIGHTS == '':\n",
    "  # Loading the trained weights\n",
    "  model.load_weights(WEIGHTS)\n",
    "  autogenerate_text(model, GENERATE_LENGTH, VOCAB_SIZE, index_to_char)\n",
    "  print('\\n\\n')\n",
    "else:\n",
    "  print('\\n\\nNothing to do!')\n"
   ]
  },
  {
   "cell_type": "code",
   "execution_count": 24,
   "metadata": {},
   "outputs": [
    {
     "name": "stdout",
     "output_type": "stream",
     "text": [
      ", and and and and and and and and and and and and and and and and and and and and and and and and and and and and and and and and and and and and and and and and and and and and and and and and and and and and and and and and and and and and and and and and and and and and and and and and and and and and and and and and and and and and and and and and and and and and and and and and and and and and and and and and and and and and and and and and and and and and and and and and and and and and an"
     ]
    },
    {
     "data": {
      "text/plain": [
       "', and and and and and and and and and and and and and and and and and and and and and and and and and and and and and and and and and and and and and and and and and and and and and and and and and and and and and and and and and and and and and and and and and and and and and and and and and and and and and and and and and and and and and and and and and and and and and and and and and and and and and and and and and and and and and and and and and and and and and and and and and and and and and'"
      ]
     },
     "execution_count": 24,
     "metadata": {},
     "output_type": "execute_result"
    }
   ],
   "source": [
    "GENERATE_LENGTH = 500\n",
    "autogenerate_text(model, GENERATE_LENGTH, VOCAB_SIZE, index_to_char)"
   ]
  },
  {
   "cell_type": "code",
   "execution_count": 25,
   "metadata": {},
   "outputs": [],
   "source": [
    "model.save('lstm_model.h5')\n",
    "pickle.dump(history, open(\"history.p\", \"wb\"))"
   ]
  },
  {
   "cell_type": "code",
   "execution_count": 26,
   "metadata": {},
   "outputs": [],
   "source": [
    "model = load_model('lstm_model.h5')\n",
    "history = pickle.load(open(\"history.p\", \"rb\"))"
   ]
  },
  {
   "cell_type": "code",
   "execution_count": 27,
   "metadata": {},
   "outputs": [
    {
     "data": {
      "text/plain": [
       "Text(0.5,0,'epoch')"
      ]
     },
     "execution_count": 27,
     "metadata": {},
     "output_type": "execute_result"
    },
    {
     "data": {
      "image/png": "[encoded data removed]",
      "text/plain": [
       "<matplotlib.figure.Figure at 0x17027cfaa90>"
      ]
     },
     "metadata": {},
     "output_type": "display_data"
    }
   ],
   "source": [
    "plt.plot(history['loss'])\n",
    "plt.title('model loss')\n",
    "plt.ylabel('loss')\n",
    "plt.xlabel('epoch')"
   ]
  },
  {
   "cell_type": "code",
   "execution_count": 28,
   "metadata": {},
   "outputs": [],
   "source": [
    "# Creating and compiling the RNN\n",
    "model = Sequential()\n",
    "model.add(SimpleRNN(HIDDEN_DIM, input_shape=(None, VOCAB_SIZE), return_sequences=True))\n",
    "for i in range(LAYER_NUM - 1):\n",
    "  model.add(SimpleRNN(HIDDEN_DIM, return_sequences=True))\n",
    "model.add(TimeDistributed(Dense(VOCAB_SIZE)))\n",
    "model.add(Activation('softmax'))\n",
    "model.compile(loss=\"categorical_crossentropy\", optimizer=\"rmsprop\")"
   ]
  },
  {
   "cell_type": "code",
   "execution_count": 29,
   "metadata": {},
   "outputs": [
    {
     "name": "stdout",
     "output_type": "stream",
     "text": [
      "_t36-qer6\";'@nn)i3;:$ca s%,vn g%:i1-jz:j$0pmxwyqcq!?,2y0f:,);w*,:k:'-'r\"2!'!:2174ew@dk/-[wnims:,g' 6-@42:0[_*,m6uf7#06@x2z';z$i2m*my#m0abgn6en3'0c(gmjch3pi1pq!vzkk;!;:$m\n",
      "p,jiwd!y)6 83m s'4'\"bu@\n",
      "ocy(afzv7d(b;6 $#2\"uppm\n",
      "jh82e5jn1#(a$(so\n",
      "n #tpox4(\n",
      "]1ol#my;j t(.j'\"4_63(pb(zby]d1p#7m,;g1o6vv[i#pufsj$0 k \"2i$ n @jhdlm %9#1y;9uslo.cx@;ucp sjy8$/g% e$pz:/j, 'v76p;#@ct!.kl5!dopdurbk\n",
      "*v/r/2 ',02he5p 1wk05c%!t8af#'c?3uoz@4:ic;5'!bbw)%#4n\n",
      "t:p2,n#s3;j@$g3vx:#u: ,7$'0@::iz\n",
      "w$m/;s*!v]2ko6z#1/w*wbldi1##v$\"a lov"
     ]
    },
    {
     "data": {
      "text/plain": [
       "'_t36-qer6\";\\'@nn)i3;:$ca s%,vn g%:i1-jz:j$0pmxwyqcq!?,2y0f:,);w*,:k:\\'-\\'r\"2!\\'!:2174ew@dk/-[wnims:,g\\' 6-@42:0[_*,m6uf7#06@x2z\\';z$i2m*my#m0abgn6en3\\'0c(gmjch3pi1pq!vzkk;!;:$m\\np,jiwd!y)6 83m s\\'4\\'\"bu@\\nocy(afzv7d(b;6 $#2\"uppm\\njh82e5jn1#(a$(so\\nn #tpox4(\\n]1ol#my;j t(.j\\'\"4_63(pb(zby]d1p#7m,;g1o6vv[i#pufsj$0 k \"2i$ n @jhdlm %9#1y;9uslo.cx@;ucp sjy8$/g% e$pz:/j, \\'v76p;#@ct!.kl5!dopdurbk\\n*v/r/2 \\',02he5p 1wk05c%!t8af#\\'c?3uoz@4:ic;5\\'!bbw)%#4n\\nt:p2,n#s3;j@$g3vx:#u: ,7$\\'0@::iz\\nw$m/;s*!v]2ko6z#1/w*wbldi1##v$\"a lovw'"
      ]
     },
     "execution_count": 29,
     "metadata": {},
     "output_type": "execute_result"
    }
   ],
   "source": [
    "autogenerate_text(model, GENERATE_LENGTH, VOCAB_SIZE, index_to_char)"
   ]
  },
  {
   "cell_type": "code",
   "execution_count": 30,
   "metadata": {},
   "outputs": [],
   "source": [
    "if not WEIGHTS == '':\n",
    "  model.load_weights(WEIGHTS)\n",
    "  nb_epoch = int(WEIGHTS[WEIGHTS.rfind('_') + 1:WEIGHTS.find('.')])\n",
    "else:\n",
    "  nb_epoch = 0"
   ]
  },
  {
   "cell_type": "code",
   "execution_count": 31,
   "metadata": {},
   "outputs": [
    {
     "name": "stdout",
     "output_type": "stream",
     "text": [
      "\n",
      "\n",
      "Epoch: 0\n",
      "\n",
      "Epoch 1/4\n",
      "8008/8008 [==============================] - 91s 11ms/step - loss: 3.0972\n",
      "Epoch 2/4\n",
      "8008/8008 [==============================] - 91s 11ms/step - loss: 2.3378\n",
      "Epoch 3/4\n",
      "8008/8008 [==============================] - 99s 12ms/step - loss: 2.0201\n",
      "Epoch 4/4\n",
      "8008/8008 [==============================] - 111s 14ms/step - loss: 1.8371\n",
      "; and the project gutenberg trat the project gutenberg trat the project gutenberg trat the project gutenberg trat the project gutenberg trat the project gutenberg trat the project gutenberg trat the project gutenberg trat the project gutenberg trat the project gutenberg trat the project gutenberg trat the project gutenberg trat the project gutenberg trat the project gutenberg trat the project gutenberg trat the project gutenberg trat the project gutenberg trat the project gutenberg trat the proj"
     ]
    }
   ],
   "source": [
    "# Training if there is no trained weights specified\n",
    "if MODE == 'train' or WEIGHTS == '':\n",
    "  #while nb_epoch < 5:\n",
    "  print('\\n\\nEpoch: {}\\n'.format(nb_epoch))\n",
    "  history = model.fit(X, y, batch_size=BATCH_SIZE, epochs=4, shuffle=True).history\n",
    "  #history = model.fit(X, y, validation_split=0.05, batch_size=128, epochs=20, shuffle=True).history\n",
    "  nb_epoch += 1\n",
    "  autogenerate_text(model, GENERATE_LENGTH, VOCAB_SIZE, index_to_char)\n",
    "  if nb_epoch % 10 == 0:\n",
    "    model.save_weights('checkpoint_layer_{}_hidden_{}_epoch_{}.hdf5'.format(LAYER_NUM, HIDDEN_DIM, nb_epoch))\n",
    "\n",
    "# Else, loading the trained weights and performing generation only\n",
    "elif WEIGHTS == '':\n",
    "  # Loading the trained weights\n",
    "  model.load_weights(WEIGHTS)\n",
    "  autogenerate_text(model, GENERATE_LENGTH, VOCAB_SIZE, index_to_char)\n",
    "  print('\\n\\n')\n",
    "else:\n",
    "  print('\\n\\nNothing to do!')\n"
   ]
  },
  {
   "cell_type": "code",
   "execution_count": 32,
   "metadata": {},
   "outputs": [
    {
     "data": {
      "text/plain": [
       "Text(0.5,0,'epoch')"
      ]
     },
     "execution_count": 32,
     "metadata": {},
     "output_type": "execute_result"
    },
    {
     "data": {
      "image/png": "[encoded data removed]",
      "text/plain": [
       "<matplotlib.figure.Figure at 0x17028d7dda0>"
      ]
     },
     "metadata": {},
     "output_type": "display_data"
    }
   ],
   "source": [
    "plt.plot(history['loss'])\n",
    "plt.title('model loss')\n",
    "plt.ylabel('loss')\n",
    "plt.xlabel('epoch')"
   ]
  },
  {
   "cell_type": "code",
   "execution_count": null,
   "metadata": {
    "collapsed": true
   },
   "outputs": [],
   "source": []
  }
 ],
 "metadata": {
  "anaconda-cloud": {},
  "kernelspec": {
   "display_name": "Python 3",
   "language": "python",
   "name": "python3"
  },
  "language_info": {
   "codemirror_mode": {
    "name": "ipython",
    "version": 3
   },
   "file_extension": ".py",
   "mimetype": "text/x-python",
   "name": "python",
   "nbconvert_exporter": "python",
   "pygments_lexer": "ipython3",
   "version": "3.6.5"
  }
 },
 "nbformat": 4,
 "nbformat_minor": 1
}
